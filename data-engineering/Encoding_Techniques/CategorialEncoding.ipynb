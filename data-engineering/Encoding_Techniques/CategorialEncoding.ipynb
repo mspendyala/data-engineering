{
  "nbformat": 4,
  "nbformat_minor": 0,
  "metadata": {
    "colab": {
      "name": "CategorialEncoding",
      "provenance": [],
      "authorship_tag": "ABX9TyMYsIiuluv4iZBR6O/dDy/f",
      "include_colab_link": true
    },
    "kernelspec": {
      "name": "python3",
      "display_name": "Python 3"
    },
    "language_info": {
      "name": "python"
    }
  },
  "cells": [
    {
      "cell_type": "markdown",
      "metadata": {
        "id": "view-in-github",
        "colab_type": "text"
      },
      "source": [
        "<a href=\"https://colab.research.google.com/github/mspendyala/data-engineering/blob/main/data-engineering/Encoding_Techniques/CategorialEncoding.ipynb\" target=\"_parent\"><img src=\"https://colab.research.google.com/assets/colab-badge.svg\" alt=\"Open In Colab\"/></a>"
      ]
    },
    {
      "cell_type": "code",
      "execution_count": null,
      "metadata": {
        "id": "nyStafeiBvZs"
      },
      "outputs": [],
      "source": [
        "impo"
      ]
    }
  ]
}